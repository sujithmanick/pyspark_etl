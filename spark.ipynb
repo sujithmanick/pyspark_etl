{
 "cells": [
  {
   "cell_type": "code",
   "execution_count": 9,
   "id": "40e12791-a0f2-4ea7-aaf3-aca0b28d9875",
   "metadata": {},
   "outputs": [],
   "source": [
    "#ETL USING PYSPARK"
   ]
  },
  {
   "cell_type": "code",
   "execution_count": 11,
   "id": "6fe2b99e-e63b-4cae-827c-dff3cce60349",
   "metadata": {},
   "outputs": [],
   "source": [
    "from pyspark.sql import SparkSession\n",
    "from pyspark.sql.functions import max, min, avg, count, concat_ws, col\n",
    "spark = SparkSession.builder.appName(\"ETL using Pyspark\").getOrCreate()"
   ]
  },
  {
   "cell_type": "code",
   "execution_count": 3,
   "id": "f71e21fc-845f-4104-b1a0-2ccbfe32c897",
   "metadata": {},
   "outputs": [],
   "source": [
    "#EXTRACT\n",
    "#Data Extraction\n",
    "data_pricing_1_df = spark.read.option(\"header\",True).option(\"inferSchema\",True).csv(\"Data pricing 1.csv\")\n",
    "data_pricing_2_df = spark.read.option(\"header\",True).option(\"inferSchema\",True).csv(\"Data pricing 2.csv\")"
   ]
  },
  {
   "cell_type": "code",
   "execution_count": 4,
   "id": "e3a5471a-c4fe-4cf8-af6a-f6561ebf3647",
   "metadata": {},
   "outputs": [],
   "source": [
    "#Data Integration\n",
    "data_pricing_df = data_pricing_1_df.union(data_pricing_2_df)"
   ]
  },
  {
   "cell_type": "code",
   "execution_count": 5,
   "id": "8d8cb0da-a894-4841-9b75-6ed8f5118a46",
   "metadata": {},
   "outputs": [],
   "source": [
    "data_pricing_df = data_pricing_df.withColumn(\"ID\",concat_ws(\"_\",col(\"Continental region\")[0:5],col(\"Currency\")))"
   ]
  },
  {
   "cell_type": "code",
   "execution_count": 8,
   "id": "e2e04ad8-095d-439a-b167-6c4ca0a7bfc9",
   "metadata": {},
   "outputs": [],
   "source": [
    "data_pricing_df = data_pricing_df.withColumn(\"CHEAP_WITH_AVG\",col(\"Cheapest 1GB (Local currency)\") + col(\"Average price of 1GB (local currency)\"))"
   ]
  },
  {
   "cell_type": "code",
   "execution_count": 16,
   "id": "05a2219e-7b4e-4307-9ebe-dcfdb2126293",
   "metadata": {},
   "outputs": [
    {
     "ename": "AnalysisException",
     "evalue": "cannot resolve '`Continental region`' given input columns: [ID, Plans];\n'Project [ID#163, Plans#220, 'Continental region]\n+- Project [ID#163, Plans#220]\n   +- Project [Continental region#92, Plans measured#93 AS Plans#220, Average price of 1GB (local currency)#94, Currency#95, Conversion rate (USD) (Frozen 07/09/2023)#96, Average price of 1GB (USD)#97, Cheapest 1GB (Local currency)#98, Cheapest 1GB for 30 days (USD)#99, Most expensive 1GB (Local currency)#100, Most expensive 1GB (USD)#101, DATE#102, ID#163, CHEAP_WITH_AVG#206]\n      +- Project [Continental region#92, Plans measured#93, Average price of 1GB (local currency)#94, Currency#95, Conversion rate (USD) (Frozen 07/09/2023)#96, Average price of 1GB (USD)#97, Cheapest 1GB (Local currency)#98, Cheapest 1GB for 30 days (USD)#99, Most expensive 1GB (Local currency)#100, Most expensive 1GB (USD)#101, DATE#102, ID#163, (Cheapest 1GB (Local currency)#98 + Average price of 1GB (local currency)#94) AS CHEAP_WITH_AVG#206]\n         +- Project [Continental region#92, Plans measured#93, Average price of 1GB (local currency)#94, Currency#95, Conversion rate (USD) (Frozen 07/09/2023)#96, Average price of 1GB (USD)#97, Cheapest 1GB (Local currency)#98, Cheapest 1GB for 30 days (USD)#99, Most expensive 1GB (Local currency)#100, Most expensive 1GB (USD)#101, DATE#102, ID#163, (Cheapest 1GB (Local currency)#98 + Average price of 1GB (local currency)#94) AS CHEAP_WITH_AVG#176]\n            +- Project [Continental region#92, Plans measured#93, Average price of 1GB (local currency)#94, Currency#95, Conversion rate (USD) (Frozen 07/09/2023)#96, Average price of 1GB (USD)#97, Cheapest 1GB (Local currency)#98, Cheapest 1GB for 30 days (USD)#99, Most expensive 1GB (Local currency)#100, Most expensive 1GB (USD)#101, DATE#102, concat_ws(_, substring(Continental region#92, 0, 5), Currency#95) AS ID#163]\n               +- Union false, false\n                  :- Relation [Continental region#92,Plans measured#93,Average price of 1GB (local currency)#94,Currency#95,Conversion rate (USD) (Frozen 07/09/2023)#96,Average price of 1GB (USD)#97,Cheapest 1GB (Local currency)#98,Cheapest 1GB for 30 days (USD)#99,Most expensive 1GB (Local currency)#100,Most expensive 1GB (USD)#101,DATE#102] csv\n                  +- Relation [Continental region#130,Plans measured#131,Average price of 1GB (local currency)#132,Currency#133,Conversion rate (USD) (Frozen 07/09/2023)#134,Average price of 1GB (USD)#135,Cheapest 1GB (Local currency)#136,Cheapest 1GB for 30 days (USD)#137,Most expensive 1GB (Local currency)#138,Most expensive 1GB (USD)#139,DATE#140] csv\n",
     "output_type": "error",
     "traceback": [
      "\u001b[0;31m---------------------------------------------------------------------------\u001b[0m",
      "\u001b[0;31mAnalysisException\u001b[0m                         Traceback (most recent call last)",
      "Cell \u001b[0;32mIn[16], line 2\u001b[0m\n\u001b[1;32m      1\u001b[0m data_pricing_df \u001b[38;5;241m=\u001b[39m data_pricing_df\u001b[38;5;241m.\u001b[39mwithColumnRenamed(\u001b[38;5;124m\"\u001b[39m\u001b[38;5;124mPlans measured\u001b[39m\u001b[38;5;124m\"\u001b[39m,\u001b[38;5;124m\"\u001b[39m\u001b[38;5;124mPlans\u001b[39m\u001b[38;5;124m\"\u001b[39m)\n\u001b[0;32m----> 2\u001b[0m data_pricing_df \u001b[38;5;241m=\u001b[39m data_pricing_df\u001b[38;5;241m.\u001b[39mselect(col(\u001b[38;5;124m\"\u001b[39m\u001b[38;5;124mID\u001b[39m\u001b[38;5;124m\"\u001b[39m), col(\u001b[38;5;124m\"\u001b[39m\u001b[38;5;124mPlans\u001b[39m\u001b[38;5;124m\"\u001b[39m), col(\u001b[38;5;124m\"\u001b[39m\u001b[38;5;124mContinental region\u001b[39m\u001b[38;5;124m\"\u001b[39m))\n",
      "File \u001b[0;32m~/miniconda3/envs/test_workspace2/lib/python3.12/site-packages/pyspark/sql/dataframe.py:1685\u001b[0m, in \u001b[0;36mDataFrame.select\u001b[0;34m(self, *cols)\u001b[0m\n\u001b[1;32m   1664\u001b[0m \u001b[38;5;28;01mdef\u001b[39;00m \u001b[38;5;21mselect\u001b[39m(\u001b[38;5;28mself\u001b[39m, \u001b[38;5;241m*\u001b[39mcols):\n\u001b[1;32m   1665\u001b[0m \u001b[38;5;250m    \u001b[39m\u001b[38;5;124;03m\"\"\"Projects a set of expressions and returns a new :class:`DataFrame`.\u001b[39;00m\n\u001b[1;32m   1666\u001b[0m \n\u001b[1;32m   1667\u001b[0m \u001b[38;5;124;03m    .. versionadded:: 1.3.0\u001b[39;00m\n\u001b[0;32m   (...)\u001b[0m\n\u001b[1;32m   1683\u001b[0m \u001b[38;5;124;03m    [Row(name='Alice', age=12), Row(name='Bob', age=15)]\u001b[39;00m\n\u001b[1;32m   1684\u001b[0m \u001b[38;5;124;03m    \"\"\"\u001b[39;00m\n\u001b[0;32m-> 1685\u001b[0m     jdf \u001b[38;5;241m=\u001b[39m \u001b[38;5;28mself\u001b[39m\u001b[38;5;241m.\u001b[39m_jdf\u001b[38;5;241m.\u001b[39mselect(\u001b[38;5;28mself\u001b[39m\u001b[38;5;241m.\u001b[39m_jcols(\u001b[38;5;241m*\u001b[39mcols))\n\u001b[1;32m   1686\u001b[0m     \u001b[38;5;28;01mreturn\u001b[39;00m DataFrame(jdf, \u001b[38;5;28mself\u001b[39m\u001b[38;5;241m.\u001b[39msql_ctx)\n",
      "File \u001b[0;32m~/miniconda3/envs/test_workspace2/lib/python3.12/site-packages/py4j/java_gateway.py:1309\u001b[0m, in \u001b[0;36mJavaMember.__call__\u001b[0;34m(self, *args)\u001b[0m\n\u001b[1;32m   1303\u001b[0m command \u001b[38;5;241m=\u001b[39m proto\u001b[38;5;241m.\u001b[39mCALL_COMMAND_NAME \u001b[38;5;241m+\u001b[39m\\\n\u001b[1;32m   1304\u001b[0m     \u001b[38;5;28mself\u001b[39m\u001b[38;5;241m.\u001b[39mcommand_header \u001b[38;5;241m+\u001b[39m\\\n\u001b[1;32m   1305\u001b[0m     args_command \u001b[38;5;241m+\u001b[39m\\\n\u001b[1;32m   1306\u001b[0m     proto\u001b[38;5;241m.\u001b[39mEND_COMMAND_PART\n\u001b[1;32m   1308\u001b[0m answer \u001b[38;5;241m=\u001b[39m \u001b[38;5;28mself\u001b[39m\u001b[38;5;241m.\u001b[39mgateway_client\u001b[38;5;241m.\u001b[39msend_command(command)\n\u001b[0;32m-> 1309\u001b[0m return_value \u001b[38;5;241m=\u001b[39m get_return_value(\n\u001b[1;32m   1310\u001b[0m     answer, \u001b[38;5;28mself\u001b[39m\u001b[38;5;241m.\u001b[39mgateway_client, \u001b[38;5;28mself\u001b[39m\u001b[38;5;241m.\u001b[39mtarget_id, \u001b[38;5;28mself\u001b[39m\u001b[38;5;241m.\u001b[39mname)\n\u001b[1;32m   1312\u001b[0m \u001b[38;5;28;01mfor\u001b[39;00m temp_arg \u001b[38;5;129;01min\u001b[39;00m temp_args:\n\u001b[1;32m   1313\u001b[0m     temp_arg\u001b[38;5;241m.\u001b[39m_detach()\n",
      "File \u001b[0;32m~/miniconda3/envs/test_workspace2/lib/python3.12/site-packages/pyspark/sql/utils.py:117\u001b[0m, in \u001b[0;36mcapture_sql_exception.<locals>.deco\u001b[0;34m(*a, **kw)\u001b[0m\n\u001b[1;32m    113\u001b[0m converted \u001b[38;5;241m=\u001b[39m convert_exception(e\u001b[38;5;241m.\u001b[39mjava_exception)\n\u001b[1;32m    114\u001b[0m \u001b[38;5;28;01mif\u001b[39;00m \u001b[38;5;129;01mnot\u001b[39;00m \u001b[38;5;28misinstance\u001b[39m(converted, UnknownException):\n\u001b[1;32m    115\u001b[0m     \u001b[38;5;66;03m# Hide where the exception came from that shows a non-Pythonic\u001b[39;00m\n\u001b[1;32m    116\u001b[0m     \u001b[38;5;66;03m# JVM exception message.\u001b[39;00m\n\u001b[0;32m--> 117\u001b[0m     \u001b[38;5;28;01mraise\u001b[39;00m converted \u001b[38;5;28;01mfrom\u001b[39;00m \u001b[38;5;28;01mNone\u001b[39;00m\n\u001b[1;32m    118\u001b[0m \u001b[38;5;28;01melse\u001b[39;00m:\n\u001b[1;32m    119\u001b[0m     \u001b[38;5;28;01mraise\u001b[39;00m\n",
      "\u001b[0;31mAnalysisException\u001b[0m: cannot resolve '`Continental region`' given input columns: [ID, Plans];\n'Project [ID#163, Plans#220, 'Continental region]\n+- Project [ID#163, Plans#220]\n   +- Project [Continental region#92, Plans measured#93 AS Plans#220, Average price of 1GB (local currency)#94, Currency#95, Conversion rate (USD) (Frozen 07/09/2023)#96, Average price of 1GB (USD)#97, Cheapest 1GB (Local currency)#98, Cheapest 1GB for 30 days (USD)#99, Most expensive 1GB (Local currency)#100, Most expensive 1GB (USD)#101, DATE#102, ID#163, CHEAP_WITH_AVG#206]\n      +- Project [Continental region#92, Plans measured#93, Average price of 1GB (local currency)#94, Currency#95, Conversion rate (USD) (Frozen 07/09/2023)#96, Average price of 1GB (USD)#97, Cheapest 1GB (Local currency)#98, Cheapest 1GB for 30 days (USD)#99, Most expensive 1GB (Local currency)#100, Most expensive 1GB (USD)#101, DATE#102, ID#163, (Cheapest 1GB (Local currency)#98 + Average price of 1GB (local currency)#94) AS CHEAP_WITH_AVG#206]\n         +- Project [Continental region#92, Plans measured#93, Average price of 1GB (local currency)#94, Currency#95, Conversion rate (USD) (Frozen 07/09/2023)#96, Average price of 1GB (USD)#97, Cheapest 1GB (Local currency)#98, Cheapest 1GB for 30 days (USD)#99, Most expensive 1GB (Local currency)#100, Most expensive 1GB (USD)#101, DATE#102, ID#163, (Cheapest 1GB (Local currency)#98 + Average price of 1GB (local currency)#94) AS CHEAP_WITH_AVG#176]\n            +- Project [Continental region#92, Plans measured#93, Average price of 1GB (local currency)#94, Currency#95, Conversion rate (USD) (Frozen 07/09/2023)#96, Average price of 1GB (USD)#97, Cheapest 1GB (Local currency)#98, Cheapest 1GB for 30 days (USD)#99, Most expensive 1GB (Local currency)#100, Most expensive 1GB (USD)#101, DATE#102, concat_ws(_, substring(Continental region#92, 0, 5), Currency#95) AS ID#163]\n               +- Union false, false\n                  :- Relation [Continental region#92,Plans measured#93,Average price of 1GB (local currency)#94,Currency#95,Conversion rate (USD) (Frozen 07/09/2023)#96,Average price of 1GB (USD)#97,Cheapest 1GB (Local currency)#98,Cheapest 1GB for 30 days (USD)#99,Most expensive 1GB (Local currency)#100,Most expensive 1GB (USD)#101,DATE#102] csv\n                  +- Relation [Continental region#130,Plans measured#131,Average price of 1GB (local currency)#132,Currency#133,Conversion rate (USD) (Frozen 07/09/2023)#134,Average price of 1GB (USD)#135,Cheapest 1GB (Local currency)#136,Cheapest 1GB for 30 days (USD)#137,Most expensive 1GB (Local currency)#138,Most expensive 1GB (USD)#139,DATE#140] csv\n"
     ]
    }
   ],
   "source": [
    "data_pricing_df = data_pricing_df.withColumnRenamed(\"Plans measured\",\"Plans\")\n",
    "data_pricing_df = data_pricing_df.select(col(\"ID\"), col(\"Plans\"), col(\"Continental region\"))"
   ]
  },
  {
   "cell_type": "code",
   "execution_count": 15,
   "id": "95b67867-b9d7-4181-beba-fbe70857b490",
   "metadata": {},
   "outputs": [
    {
     "ename": "AnalysisException",
     "evalue": "Partition column `Continental region` not found in schema struct<ID:string,Plans:int>",
     "output_type": "error",
     "traceback": [
      "\u001b[0;31m---------------------------------------------------------------------------\u001b[0m",
      "\u001b[0;31mAnalysisException\u001b[0m                         Traceback (most recent call last)",
      "Cell \u001b[0;32mIn[15], line 1\u001b[0m\n\u001b[0;32m----> 1\u001b[0m data_pricing_df\u001b[38;5;241m.\u001b[39mwrite\u001b[38;5;241m.\u001b[39mmode(\u001b[38;5;124m\"\u001b[39m\u001b[38;5;124moverwrite\u001b[39m\u001b[38;5;124m\"\u001b[39m)\u001b[38;5;241m.\u001b[39mpartitionBy(\u001b[38;5;124m\"\u001b[39m\u001b[38;5;124mContinental region\u001b[39m\u001b[38;5;124m\"\u001b[39m)\u001b[38;5;241m.\u001b[39mparquet(\u001b[38;5;124m\"\u001b[39m\u001b[38;5;124mdata priciing.parquet\u001b[39m\u001b[38;5;124m\"\u001b[39m)\n",
      "File \u001b[0;32m~/miniconda3/envs/test_workspace2/lib/python3.12/site-packages/pyspark/sql/readwriter.py:885\u001b[0m, in \u001b[0;36mDataFrameWriter.parquet\u001b[0;34m(self, path, mode, partitionBy, compression)\u001b[0m\n\u001b[1;32m    883\u001b[0m     \u001b[38;5;28mself\u001b[39m\u001b[38;5;241m.\u001b[39mpartitionBy(partitionBy)\n\u001b[1;32m    884\u001b[0m \u001b[38;5;28mself\u001b[39m\u001b[38;5;241m.\u001b[39m_set_opts(compression\u001b[38;5;241m=\u001b[39mcompression)\n\u001b[0;32m--> 885\u001b[0m \u001b[38;5;28mself\u001b[39m\u001b[38;5;241m.\u001b[39m_jwrite\u001b[38;5;241m.\u001b[39mparquet(path)\n",
      "File \u001b[0;32m~/miniconda3/envs/test_workspace2/lib/python3.12/site-packages/py4j/java_gateway.py:1309\u001b[0m, in \u001b[0;36mJavaMember.__call__\u001b[0;34m(self, *args)\u001b[0m\n\u001b[1;32m   1303\u001b[0m command \u001b[38;5;241m=\u001b[39m proto\u001b[38;5;241m.\u001b[39mCALL_COMMAND_NAME \u001b[38;5;241m+\u001b[39m\\\n\u001b[1;32m   1304\u001b[0m     \u001b[38;5;28mself\u001b[39m\u001b[38;5;241m.\u001b[39mcommand_header \u001b[38;5;241m+\u001b[39m\\\n\u001b[1;32m   1305\u001b[0m     args_command \u001b[38;5;241m+\u001b[39m\\\n\u001b[1;32m   1306\u001b[0m     proto\u001b[38;5;241m.\u001b[39mEND_COMMAND_PART\n\u001b[1;32m   1308\u001b[0m answer \u001b[38;5;241m=\u001b[39m \u001b[38;5;28mself\u001b[39m\u001b[38;5;241m.\u001b[39mgateway_client\u001b[38;5;241m.\u001b[39msend_command(command)\n\u001b[0;32m-> 1309\u001b[0m return_value \u001b[38;5;241m=\u001b[39m get_return_value(\n\u001b[1;32m   1310\u001b[0m     answer, \u001b[38;5;28mself\u001b[39m\u001b[38;5;241m.\u001b[39mgateway_client, \u001b[38;5;28mself\u001b[39m\u001b[38;5;241m.\u001b[39mtarget_id, \u001b[38;5;28mself\u001b[39m\u001b[38;5;241m.\u001b[39mname)\n\u001b[1;32m   1312\u001b[0m \u001b[38;5;28;01mfor\u001b[39;00m temp_arg \u001b[38;5;129;01min\u001b[39;00m temp_args:\n\u001b[1;32m   1313\u001b[0m     temp_arg\u001b[38;5;241m.\u001b[39m_detach()\n",
      "File \u001b[0;32m~/miniconda3/envs/test_workspace2/lib/python3.12/site-packages/pyspark/sql/utils.py:117\u001b[0m, in \u001b[0;36mcapture_sql_exception.<locals>.deco\u001b[0;34m(*a, **kw)\u001b[0m\n\u001b[1;32m    113\u001b[0m converted \u001b[38;5;241m=\u001b[39m convert_exception(e\u001b[38;5;241m.\u001b[39mjava_exception)\n\u001b[1;32m    114\u001b[0m \u001b[38;5;28;01mif\u001b[39;00m \u001b[38;5;129;01mnot\u001b[39;00m \u001b[38;5;28misinstance\u001b[39m(converted, UnknownException):\n\u001b[1;32m    115\u001b[0m     \u001b[38;5;66;03m# Hide where the exception came from that shows a non-Pythonic\u001b[39;00m\n\u001b[1;32m    116\u001b[0m     \u001b[38;5;66;03m# JVM exception message.\u001b[39;00m\n\u001b[0;32m--> 117\u001b[0m     \u001b[38;5;28;01mraise\u001b[39;00m converted \u001b[38;5;28;01mfrom\u001b[39;00m \u001b[38;5;28;01mNone\u001b[39;00m\n\u001b[1;32m    118\u001b[0m \u001b[38;5;28;01melse\u001b[39;00m:\n\u001b[1;32m    119\u001b[0m     \u001b[38;5;28;01mraise\u001b[39;00m\n",
      "\u001b[0;31mAnalysisException\u001b[0m: Partition column `Continental region` not found in schema struct<ID:string,Plans:int>"
     ]
    }
   ],
   "source": [
    "data_pricing_df.write.mode(\"overwrite\").partitionBy(\"Continental region\").parquet(\"data priciing.parquet\")"
   ]
  },
  {
   "cell_type": "code",
   "execution_count": null,
   "id": "d92acd15-8c26-4119-b538-4a152d0804ef",
   "metadata": {},
   "outputs": [],
   "source": []
  }
 ],
 "metadata": {
  "kernelspec": {
   "display_name": "Python 3 (ipykernel)",
   "language": "python",
   "name": "python3"
  },
  "language_info": {
   "codemirror_mode": {
    "name": "ipython",
    "version": 3
   },
   "file_extension": ".py",
   "mimetype": "text/x-python",
   "name": "python",
   "nbconvert_exporter": "python",
   "pygments_lexer": "ipython3",
   "version": "3.12.8"
  }
 },
 "nbformat": 4,
 "nbformat_minor": 5
}
