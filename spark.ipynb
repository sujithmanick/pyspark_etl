{
 "cells": [
  {
   "cell_type": "code",
   "execution_count": 9,
   "id": "40e12791-a0f2-4ea7-aaf3-aca0b28d9875",
   "metadata": {},
   "outputs": [],
   "source": [
    "#ETL USING PYSPARK"
   ]
  },
  {
   "cell_type": "code",
   "execution_count": 7,
   "id": "6fe2b99e-e63b-4cae-827c-dff3cce60349",
   "metadata": {},
   "outputs": [],
   "source": [
    "from pyspark.sql import SparkSession\n",
    "from pyspark.sql.functions import max, min, avg, count, concat_ws, col\n",
    "spark = SparkSession.builder.appName(\"ETL using Pyspark\").getOrCreate()"
   ]
  },
  {
   "cell_type": "code",
   "execution_count": null,
   "id": "f71e21fc-845f-4104-b1a0-2ccbfe32c897",
   "metadata": {},
   "outputs": [],
   "source": [
    "#EXTRACT\n",
    "#Data Extraction\n",
    "data_pricing_1_df = spark.read.option(\"header\",True).option(\"inferSchema\",True).csv(\"Data pricing 1.csv\")\n",
    "data_pricing_2_df = spark.read.option(\"header\",True).option(\"inferSchema\",True).csv(\"Data pricing 2.csv\")"
   ]
  },
  {
   "cell_type": "code",
   "execution_count": 4,
   "id": "e3a5471a-c4fe-4cf8-af6a-f6561ebf3647",
   "metadata": {},
   "outputs": [],
   "source": [
    "#Data Integration\n",
    "data_pricing_df = data_pricing_1_df.union(data_pricing_2_df)"
   ]
  },
  {
   "cell_type": "code",
   "execution_count": 5,
   "id": "8d8cb0da-a894-4841-9b75-6ed8f5118a46",
   "metadata": {},
   "outputs": [],
   "source": [
    "data_pricing_df = data_pricing_df.withColumn(\"ID\",concat_ws(\"_\",col(\"Continental region\")[0:5],col(\"Currency\")))"
   ]
  },
  {
   "cell_type": "code",
   "execution_count": null,
   "id": "e2e04ad8-095d-439a-b167-6c4ca0a7bfc9",
   "metadata": {},
   "outputs": [],
   "source": [
    "data_pricing_df = data_pricing_df.withColumn(\"CHEAP_WITH_AVG\",col(\"Cheapest 1GB (Local currency)\") + col(\"Average price of 1GB (local currency)\"))"
   ]
  },
  {
   "cell_type": "code",
   "execution_count": null,
   "id": "95b67867-b9d7-4181-beba-fbe70857b490",
   "metadata": {},
   "outputs": [],
   "source": [
    "data_pricing_df.write.mode(\"overwrite\").partitionBy(\"Continental region\").parquet(\"data priciing.parquet\")"
   ]
  }
 ],
 "metadata": {
  "kernelspec": {
   "display_name": "Python 3 (ipykernel)",
   "language": "python",
   "name": "python3"
  },
  "language_info": {
   "codemirror_mode": {
    "name": "ipython",
    "version": 3
   },
   "file_extension": ".py",
   "mimetype": "text/x-python",
   "name": "python",
   "nbconvert_exporter": "python",
   "pygments_lexer": "ipython3",
   "version": "3.12.8"
  }
 },
 "nbformat": 4,
 "nbformat_minor": 5
}
